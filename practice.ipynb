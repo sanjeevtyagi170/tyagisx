{
 "cells": [
  {
   "cell_type": "code",
   "execution_count": 1,
   "metadata": {
    "_cell_guid": "79c7e3d0-c299-4dcb-8224-4455121ee9b0",
    "_uuid": "d629ff2d2480ee46fbb7e2d37f6b5fab8052498a",
    "execution": {
     "iopub.execute_input": "2022-02-18T03:22:10.435569Z",
     "iopub.status.busy": "2022-02-18T03:22:10.435057Z",
     "iopub.status.idle": "2022-02-18T03:22:10.440011Z",
     "shell.execute_reply": "2022-02-18T03:22:10.438985Z",
     "shell.execute_reply.started": "2022-02-18T03:22:10.435502Z"
    }
   },
   "outputs": [],
   "source": [
    "import pandas as pd\n",
    "import numpy as np\n",
    "import re"
   ]
  },
  {
   "cell_type": "code",
   "execution_count": null,
   "metadata": {},
   "outputs": [],
   "source": []
  },
  {
   "cell_type": "code",
   "execution_count": 2,
   "metadata": {
    "execution": {
     "iopub.execute_input": "2022-02-18T03:22:10.458164Z",
     "iopub.status.busy": "2022-02-18T03:22:10.457658Z",
     "iopub.status.idle": "2022-02-18T03:22:10.467237Z",
     "shell.execute_reply": "2022-02-18T03:22:10.466122Z",
     "shell.execute_reply.started": "2022-02-18T03:22:10.458101Z"
    }
   },
   "outputs": [
    {
     "data": {
      "text/plain": [
       "[3, 4]"
      ]
     },
     "execution_count": 2,
     "metadata": {},
     "output_type": "execute_result"
    }
   ],
   "source": [
    "def median(x):\n",
    "    n=len(x)//2\n",
    "    if len(x)%2==0:\n",
    "        return sorted(x)[n-1:n+1]\n",
    "    else:\n",
    "        return sorted(x)[n]\n",
    "z=[1,2,3,5,6,4]\n",
    "median(z)"
   ]
  },
  {
   "cell_type": "code",
   "execution_count": 3,
   "metadata": {
    "execution": {
     "iopub.execute_input": "2022-02-18T03:22:10.470284Z",
     "iopub.status.busy": "2022-02-18T03:22:10.469683Z",
     "iopub.status.idle": "2022-02-18T03:22:10.496233Z",
     "shell.execute_reply": "2022-02-18T03:22:10.494910Z",
     "shell.execute_reply.started": "2022-02-18T03:22:10.470239Z"
    }
   },
   "outputs": [
    {
     "data": {
      "text/html": [
       "<div>\n",
       "<style scoped>\n",
       "    .dataframe tbody tr th:only-of-type {\n",
       "        vertical-align: middle;\n",
       "    }\n",
       "\n",
       "    .dataframe tbody tr th {\n",
       "        vertical-align: top;\n",
       "    }\n",
       "\n",
       "    .dataframe thead th {\n",
       "        text-align: right;\n",
       "    }\n",
       "</style>\n",
       "<table border=\"1\" class=\"dataframe\">\n",
       "  <thead>\n",
       "    <tr style=\"text-align: right;\">\n",
       "      <th></th>\n",
       "      <th>age</th>\n",
       "      <th>name</th>\n",
       "    </tr>\n",
       "  </thead>\n",
       "  <tbody>\n",
       "    <tr>\n",
       "      <th>0</th>\n",
       "      <td>30</td>\n",
       "      <td>Sanjeev Tyagi</td>\n",
       "    </tr>\n",
       "    <tr>\n",
       "      <th>1</th>\n",
       "      <td>45</td>\n",
       "      <td>Bavneet Sethi</td>\n",
       "    </tr>\n",
       "  </tbody>\n",
       "</table>\n",
       "</div>"
      ],
      "text/plain": [
       "  age           name\n",
       "0  30  Sanjeev Tyagi\n",
       "1  45  Bavneet Sethi"
      ]
     },
     "execution_count": 3,
     "metadata": {},
     "output_type": "execute_result"
    }
   ],
   "source": [
    "# Basic Manipulation\n",
    "st=\"sanjeev30tyagi\"\n",
    "pat_n=re.compile(r\"\\d+\")\n",
    "delim=re.findall(pat_n,st)\n",
    "last_name=st.split(delim[0])[1]\n",
    "first_name=st.split(delim[0])[0]\n",
    "first_name+\" \"+last_name\n",
    "\n",
    "# Basic Manipulation in a df\n",
    "df=pd.DataFrame({\"emp_det\":[\"sanjeev30tyagi\",\"bavneet45sethi\"]})\n",
    "def age_ex(x):\n",
    "    pat_n=re.compile(\"\\d+\")\n",
    "    return re.findall(pat_n,x)[0]\n",
    "df[\"age\"]=df.emp_det.apply(age_ex)\n",
    "def name(x):\n",
    "    pat_n=re.compile(\"\\d+\")\n",
    "    return x.split(re.findall(pat_n,x)[0])[0].title()+\" \"+x.split(re.findall(pat_n,x)[0])[1].title()\n",
    "df[\"name\"]=df.emp_det.apply(name)\n",
    "df[sorted(df.columns)].drop(\"emp_det\",axis=1)"
   ]
  },
  {
   "cell_type": "code",
   "execution_count": 4,
   "metadata": {
    "execution": {
     "iopub.execute_input": "2022-02-18T03:22:10.498599Z",
     "iopub.status.busy": "2022-02-18T03:22:10.498186Z",
     "iopub.status.idle": "2022-02-18T03:22:10.504622Z",
     "shell.execute_reply": "2022-02-18T03:22:10.503597Z",
     "shell.execute_reply.started": "2022-02-18T03:22:10.498536Z"
    }
   },
   "outputs": [
    {
     "name": "stdout",
     "output_type": "stream",
     "text": [
      "      \n",
      "     *\n",
      "    **\n",
      "   ***\n",
      "  ****\n",
      " *****\n"
     ]
    }
   ],
   "source": [
    "n=6\n",
    "for i in range(n):\n",
    "    print(((n-i)*\" \")+(\"*\"*i))"
   ]
  },
  {
   "cell_type": "code",
   "execution_count": 5,
   "metadata": {
    "execution": {
     "iopub.execute_input": "2022-02-18T03:22:10.506491Z",
     "iopub.status.busy": "2022-02-18T03:22:10.506120Z",
     "iopub.status.idle": "2022-02-18T03:22:10.523032Z",
     "shell.execute_reply": "2022-02-18T03:22:10.521921Z",
     "shell.execute_reply.started": "2022-02-18T03:22:10.506416Z"
    }
   },
   "outputs": [
    {
     "data": {
      "text/plain": [
       "(13, 12)"
      ]
     },
     "execution_count": 5,
     "metadata": {},
     "output_type": "execute_result"
    }
   ],
   "source": [
    "x=12\n",
    "y=13\n",
    "(x,y)=(y,x)\n",
    "x,y"
   ]
  },
  {
   "cell_type": "code",
   "execution_count": 6,
   "metadata": {
    "execution": {
     "iopub.execute_input": "2022-02-18T03:22:10.525891Z",
     "iopub.status.busy": "2022-02-18T03:22:10.525511Z",
     "iopub.status.idle": "2022-02-18T03:22:10.536416Z",
     "shell.execute_reply": "2022-02-18T03:22:10.535679Z",
     "shell.execute_reply.started": "2022-02-18T03:22:10.525818Z"
    }
   },
   "outputs": [
    {
     "data": {
      "text/plain": [
       "'Palindrome'"
      ]
     },
     "execution_count": 6,
     "metadata": {},
     "output_type": "execute_result"
    }
   ],
   "source": [
    "def palin(n):\n",
    "    copy=n\n",
    "    rev=0\n",
    "    rem=0\n",
    "    while n>0:\n",
    "        rem=n%10\n",
    "        rev=rev*10+rem\n",
    "        n=n//10\n",
    "    return \"Palindrome\" if rev==copy else \"Not Palindrome\"\n",
    "palin(1001)"
   ]
  },
  {
   "cell_type": "code",
   "execution_count": 7,
   "metadata": {
    "execution": {
     "iopub.execute_input": "2022-02-18T03:22:10.538406Z",
     "iopub.status.busy": "2022-02-18T03:22:10.537913Z",
     "iopub.status.idle": "2022-02-18T03:22:10.549038Z",
     "shell.execute_reply": "2022-02-18T03:22:10.547648Z",
     "shell.execute_reply.started": "2022-02-18T03:22:10.538358Z"
    }
   },
   "outputs": [
    {
     "data": {
      "text/plain": [
       "3628800"
      ]
     },
     "execution_count": 7,
     "metadata": {},
     "output_type": "execute_result"
    }
   ],
   "source": [
    "def fact(n):\n",
    "    fact=1\n",
    "    for i in range(1,n+1):\n",
    "        fact=fact*i\n",
    "    return fact\n",
    "fact(10)"
   ]
  },
  {
   "cell_type": "code",
   "execution_count": 8,
   "metadata": {
    "execution": {
     "iopub.execute_input": "2022-02-18T03:22:10.551695Z",
     "iopub.status.busy": "2022-02-18T03:22:10.551025Z",
     "iopub.status.idle": "2022-02-18T03:22:10.562394Z",
     "shell.execute_reply": "2022-02-18T03:22:10.560924Z",
     "shell.execute_reply.started": "2022-02-18T03:22:10.551633Z"
    }
   },
   "outputs": [
    {
     "data": {
      "text/plain": [
       "3628800"
      ]
     },
     "execution_count": 8,
     "metadata": {},
     "output_type": "execute_result"
    }
   ],
   "source": [
    "def fact_rec(n):\n",
    "    if n<=1:\n",
    "        return 1\n",
    "    else:\n",
    "        return fact_rec(n-1)*n\n",
    "fact_rec(10)"
   ]
  },
  {
   "cell_type": "markdown",
   "metadata": {
    "execution": {
     "iopub.execute_input": "2022-02-18T03:21:54.241691Z",
     "iopub.status.busy": "2022-02-18T03:21:54.241303Z",
     "iopub.status.idle": "2022-02-18T03:21:54.252759Z",
     "shell.execute_reply": "2022-02-18T03:21:54.251594Z",
     "shell.execute_reply.started": "2022-02-18T03:21:54.241626Z"
    }
   },
   "source": [
    "a=[7,15,12,3]\n",
    "for i in range(len(a)):\n",
    "    if a[i]-a[i-1]>0:"
   ]
  },
  {
   "cell_type": "code",
   "execution_count": 9,
   "metadata": {
    "execution": {
     "iopub.execute_input": "2022-02-18T03:22:10.564959Z",
     "iopub.status.busy": "2022-02-18T03:22:10.564237Z",
     "iopub.status.idle": "2022-02-18T03:22:10.575488Z",
     "shell.execute_reply": "2022-02-18T03:22:10.574316Z",
     "shell.execute_reply.started": "2022-02-18T03:22:10.564884Z"
    }
   },
   "outputs": [
    {
     "data": {
      "text/plain": [
       "7"
      ]
     },
     "execution_count": 9,
     "metadata": {},
     "output_type": "execute_result"
    }
   ],
   "source": [
    "l=10\n",
    "r=15\n",
    "maxs=0\n",
    "for i in range(l,r+1):\n",
    "    for j in range(l,r+1):\n",
    "        if maxs<(i^j):\n",
    "            maxs=(i^j)\n",
    "maxs"
   ]
  },
  {
   "cell_type": "code",
   "execution_count": 10,
   "metadata": {
    "execution": {
     "iopub.execute_input": "2022-02-18T03:22:10.577956Z",
     "iopub.status.busy": "2022-02-18T03:22:10.577440Z",
     "iopub.status.idle": "2022-02-18T03:22:10.594372Z",
     "shell.execute_reply": "2022-02-18T03:22:10.592849Z",
     "shell.execute_reply.started": "2022-02-18T03:22:10.577906Z"
    }
   },
   "outputs": [
    {
     "data": {
      "text/plain": [
       "([8, 7, 6, 5, 1], [1, 1, 2, 2, 3, 4, 5, 5, 6, 7, 8])"
      ]
     },
     "execution_count": 10,
     "metadata": {},
     "output_type": "execute_result"
    }
   ],
   "source": [
    "ranked=[100,90,90,80,75,60]\n",
    "player=[50,65,77,90,102]\n",
    "player_sort=sorted(player,reverse=True)\n",
    "rankings = [1]\n",
    "rank = 1\n",
    "for i in player_sort:\n",
    "    for j in range(len(ranked)):\n",
    "        if ranked[j]<=i:\n",
    "            ranked.insert(j,i)\n",
    "            break\n",
    "        else:\n",
    "            ranked.append(i)\n",
    "            break\n",
    "for i in range(1, len(ranked)):\n",
    "    if ranked[i] < ranked[i - 1]:\n",
    "        rank += 1\n",
    "    rankings.append(rank)\n",
    "rankings=[i-1 for i in rankings]\n",
    "rankings[0]=1\n",
    "final=dict(zip(ranked,rankings))\n",
    "[final[k] for k in player if k in final],rankings"
   ]
  },
  {
   "cell_type": "code",
   "execution_count": null,
   "metadata": {},
   "outputs": [],
   "source": []
  },
  {
   "cell_type": "code",
   "execution_count": 11,
   "metadata": {
    "execution": {
     "iopub.execute_input": "2022-02-18T03:22:10.598048Z",
     "iopub.status.busy": "2022-02-18T03:22:10.597145Z",
     "iopub.status.idle": "2022-02-18T03:22:10.608772Z",
     "shell.execute_reply": "2022-02-18T03:22:10.607839Z",
     "shell.execute_reply.started": "2022-02-18T03:22:10.597980Z"
    }
   },
   "outputs": [
    {
     "data": {
      "text/plain": [
       "4"
      ]
     },
     "execution_count": 11,
     "metadata": {},
     "output_type": "execute_result"
    }
   ],
   "source": [
    "\n",
    "n=10\n",
    "cnt=0\n",
    "for i in bin(n):\n",
    "    if i==\"0\":\n",
    "        cnt+=1\n",
    "pow(2,cnt-1)"
   ]
  },
  {
   "cell_type": "code",
   "execution_count": 12,
   "metadata": {
    "execution": {
     "iopub.execute_input": "2022-02-18T03:22:10.611209Z",
     "iopub.status.busy": "2022-02-18T03:22:10.610488Z",
     "iopub.status.idle": "2022-02-18T03:22:10.620772Z",
     "shell.execute_reply": "2022-02-18T03:22:10.619563Z",
     "shell.execute_reply.started": "2022-02-18T03:22:10.611157Z"
    }
   },
   "outputs": [
    {
     "data": {
      "text/plain": [
       "9"
      ]
     },
     "execution_count": 12,
     "metadata": {},
     "output_type": "execute_result"
    }
   ],
   "source": [
    "#Lonely integer\n",
    "x=0\n",
    "a=sorted([1,2,3,4,9,4,3,2,1])\n",
    "for i in a:\n",
    "    x=i^x\n",
    "x"
   ]
  },
  {
   "cell_type": "code",
   "execution_count": 13,
   "metadata": {
    "execution": {
     "iopub.execute_input": "2022-02-18T03:22:10.623156Z",
     "iopub.status.busy": "2022-02-18T03:22:10.622643Z",
     "iopub.status.idle": "2022-02-18T03:22:10.633751Z",
     "shell.execute_reply": "2022-02-18T03:22:10.632527Z",
     "shell.execute_reply.started": "2022-02-18T03:22:10.623111Z"
    }
   },
   "outputs": [
    {
     "name": "stdout",
     "output_type": "stream",
     "text": [
      "6 0\n",
      "5 1\n",
      "3 3\n",
      "NO\n"
     ]
    }
   ],
   "source": [
    "arr=[1,2,3]\n",
    "n=len(arr)\n",
    "tot=sum(arr)\n",
    "ls=[]\n",
    "for i in range(n):\n",
    "    print(sum(arr[i:n]),tot-sum(arr[i:n]))\n",
    "    if sum(arr[0:i])==sum(arr[i+1:n]):\n",
    "        ls.append(True)\n",
    "if any(ls):\n",
    "    print(\"YES\")\n",
    "else:\n",
    "    print(\"NO\")"
   ]
  },
  {
   "cell_type": "code",
   "execution_count": 14,
   "metadata": {
    "execution": {
     "iopub.execute_input": "2022-02-18T03:22:10.636127Z",
     "iopub.status.busy": "2022-02-18T03:22:10.635621Z",
     "iopub.status.idle": "2022-02-18T03:22:10.649131Z",
     "shell.execute_reply": "2022-02-18T03:22:10.648172Z",
     "shell.execute_reply.started": "2022-02-18T03:22:10.636068Z"
    }
   },
   "outputs": [
    {
     "data": {
      "text/plain": [
       "'YES'"
      ]
     },
     "execution_count": 14,
     "metadata": {},
     "output_type": "execute_result"
    }
   ],
   "source": [
    "tot=sum(arr)\n",
    "\"YES\" if any(True for i in range(n) if sum(arr[0:i])==(tot-sum(arr[0:i]))) else \"NO\""
   ]
  },
  {
   "cell_type": "code",
   "execution_count": 15,
   "metadata": {
    "execution": {
     "iopub.execute_input": "2022-02-18T03:22:10.651157Z",
     "iopub.status.busy": "2022-02-18T03:22:10.650652Z",
     "iopub.status.idle": "2022-02-18T03:22:10.661197Z",
     "shell.execute_reply": "2022-02-18T03:22:10.659951Z",
     "shell.execute_reply.started": "2022-02-18T03:22:10.651102Z"
    }
   },
   "outputs": [
    {
     "data": {
      "text/plain": [
       "[1]"
      ]
     },
     "execution_count": 15,
     "metadata": {},
     "output_type": "execute_result"
    }
   ],
   "source": [
    "arr[:1]"
   ]
  },
  {
   "cell_type": "code",
   "execution_count": 16,
   "metadata": {
    "execution": {
     "iopub.execute_input": "2022-02-18T03:22:10.663937Z",
     "iopub.status.busy": "2022-02-18T03:22:10.663236Z",
     "iopub.status.idle": "2022-02-18T03:22:10.673731Z",
     "shell.execute_reply": "2022-02-18T03:22:10.672374Z",
     "shell.execute_reply.started": "2022-02-18T03:22:10.663792Z"
    }
   },
   "outputs": [
    {
     "data": {
      "text/plain": [
       "[]"
      ]
     },
     "execution_count": 16,
     "metadata": {},
     "output_type": "execute_result"
    }
   ],
   "source": [
    "arr=[1,-3,71,68,17]\n",
    "min_p=max(arr)\n",
    "ls=[]\n",
    "for i in range(len(arr)):\n",
    "    for j in range(i+1,len(arr)):\n",
    "        if abs(arr[i]-arr[j])<min_p:\n",
    "            min_p=abs(arr[i]-arr[j])\n",
    "ls"
   ]
  },
  {
   "cell_type": "code",
   "execution_count": 17,
   "metadata": {
    "execution": {
     "iopub.execute_input": "2022-02-18T03:22:10.679156Z",
     "iopub.status.busy": "2022-02-18T03:22:10.678333Z",
     "iopub.status.idle": "2022-02-18T03:22:10.690077Z",
     "shell.execute_reply": "2022-02-18T03:22:10.688655Z",
     "shell.execute_reply.started": "2022-02-18T03:22:10.679076Z"
    }
   },
   "outputs": [
    {
     "name": "stdout",
     "output_type": "stream",
     "text": [
      "-1\n"
     ]
    }
   ],
   "source": [
    "#Minimum Distances\n",
    "a=[1,2,3,4,10]\n",
    "min_dist=[]\n",
    "for i in range(len(a)):\n",
    "    for j in range(i+1,len(a)):\n",
    "        if a[i]==a[j]:\n",
    "            min_dist.append(abs(i-j))\n",
    "if not min_dist:\n",
    "    print(-1)"
   ]
  },
  {
   "cell_type": "code",
   "execution_count": 18,
   "metadata": {
    "execution": {
     "iopub.execute_input": "2022-02-18T03:22:10.692963Z",
     "iopub.status.busy": "2022-02-18T03:22:10.692351Z",
     "iopub.status.idle": "2022-02-18T03:22:10.704430Z",
     "shell.execute_reply": "2022-02-18T03:22:10.703196Z",
     "shell.execute_reply.started": "2022-02-18T03:22:10.692886Z"
    }
   },
   "outputs": [
    {
     "name": "stdout",
     "output_type": "stream",
     "text": [
      "58 [45, 48, 52, 55, 58]\n"
     ]
    }
   ],
   "source": [
    "\n",
    "keyboards=[40,50,60]\n",
    "drives=[5,8,12] \n",
    "b=60\n",
    "l = []\n",
    "for x in keyboards:\n",
    "    for y in drives:\n",
    "        if x+y <= b:\n",
    "            l.append(x+y)\n",
    "if not l:\n",
    "    print(-1)\n",
    "else:\n",
    "    print(max(l),l)"
   ]
  },
  {
   "cell_type": "code",
   "execution_count": 19,
   "metadata": {
    "execution": {
     "iopub.execute_input": "2022-02-18T03:22:10.706093Z",
     "iopub.status.busy": "2022-02-18T03:22:10.705760Z",
     "iopub.status.idle": "2022-02-18T03:22:10.719786Z",
     "shell.execute_reply": "2022-02-18T03:22:10.718711Z",
     "shell.execute_reply.started": "2022-02-18T03:22:10.706041Z"
    }
   },
   "outputs": [
    {
     "data": {
      "text/plain": [
       "2"
      ]
     },
     "execution_count": 19,
     "metadata": {},
     "output_type": "execute_result"
    }
   ],
   "source": [
    "#subarray Division\n",
    "arr=[2,2,1,3,2]\n",
    "d=4\n",
    "m=2\n",
    "cnt=0\n",
    "for i in range(len(arr)-1):\n",
    "    if sum(arr[i:i+m])==d:\n",
    "        cnt+=1\n",
    "cnt"
   ]
  },
  {
   "cell_type": "code",
   "execution_count": 20,
   "metadata": {
    "execution": {
     "iopub.execute_input": "2022-02-18T03:22:10.724328Z",
     "iopub.status.busy": "2022-02-18T03:22:10.722844Z",
     "iopub.status.idle": "2022-02-18T03:22:10.733183Z",
     "shell.execute_reply": "2022-02-18T03:22:10.731978Z",
     "shell.execute_reply.started": "2022-02-18T03:22:10.724271Z"
    }
   },
   "outputs": [
    {
     "data": {
      "text/plain": [
       "[2, 1]"
      ]
     },
     "execution_count": 20,
     "metadata": {},
     "output_type": "execute_result"
    }
   ],
   "source": [
    "arr[1:1+2]"
   ]
  },
  {
   "cell_type": "code",
   "execution_count": 21,
   "metadata": {
    "execution": {
     "iopub.execute_input": "2022-02-18T03:22:10.735072Z",
     "iopub.status.busy": "2022-02-18T03:22:10.734718Z",
     "iopub.status.idle": "2022-02-18T03:22:10.747546Z",
     "shell.execute_reply": "2022-02-18T03:22:10.746490Z",
     "shell.execute_reply.started": "2022-02-18T03:22:10.735017Z"
    }
   },
   "outputs": [
    {
     "data": {
      "text/plain": [
       "2"
      ]
     },
     "execution_count": 21,
     "metadata": {},
     "output_type": "execute_result"
    }
   ],
   "source": [
    "# Minimum Loss\n",
    "arr=[20,7,8,2,5]\n",
    "max_sum=max(arr)\n",
    "for i in range(len(arr)):\n",
    "    s=i+1\n",
    "    for j in range(s,len(arr)):\n",
    "        if ((arr[i]-arr[j])<max_sum) & ((arr[i]-arr[j])>0) :\n",
    "            max_sum=arr[i]-arr[j]\n",
    "max_sum"
   ]
  },
  {
   "cell_type": "code",
   "execution_count": 22,
   "metadata": {
    "execution": {
     "iopub.execute_input": "2022-02-18T03:22:10.749720Z",
     "iopub.status.busy": "2022-02-18T03:22:10.749158Z",
     "iopub.status.idle": "2022-02-18T03:22:10.759217Z",
     "shell.execute_reply": "2022-02-18T03:22:10.757684Z",
     "shell.execute_reply.started": "2022-02-18T03:22:10.749659Z"
    }
   },
   "outputs": [
    {
     "data": {
      "text/plain": [
       "3"
      ]
     },
     "execution_count": 22,
     "metadata": {},
     "output_type": "execute_result"
    }
   ],
   "source": [
    "#Pairs\n",
    "arr=[1,5,3,4,2]\n",
    "k=2\n",
    "arr2=np.array(arr)+k\n",
    "len(set(arr2) & set(arr))"
   ]
  },
  {
   "cell_type": "markdown",
   "metadata": {
    "execution": {
     "iopub.execute_input": "2022-02-18T03:09:18.140207Z",
     "iopub.status.busy": "2022-02-18T03:09:18.139843Z",
     "iopub.status.idle": "2022-02-18T03:09:18.16284Z",
     "shell.execute_reply": "2022-02-18T03:09:18.159952Z",
     "shell.execute_reply.started": "2022-02-18T03:09:18.140154Z"
    }
   },
   "source": [
    "arr=[5,6,8,11]\n",
    "left_sum=0\n",
    "right_sum=0\n",
    "pivot=0\n",
    "for i in range(len(arr)):\n",
    "    if i==0:\n",
    "        pass\n",
    "    else:\n",
    "        left_sum=left_sum+arr[i-1]\n",
    "        right_sum=right_sum+arr[i+1]\n",
    "        print(left_sum,right_sum,i)"
   ]
  }
 ],
 "metadata": {
  "kernelspec": {
   "display_name": "Python 3",
   "language": "python",
   "name": "python3"
  },
  "language_info": {
   "codemirror_mode": {
    "name": "ipython",
    "version": 3
   },
   "file_extension": ".py",
   "mimetype": "text/x-python",
   "name": "python",
   "nbconvert_exporter": "python",
   "pygments_lexer": "ipython3",
   "version": "3.6.6"
  }
 },
 "nbformat": 4,
 "nbformat_minor": 4
}
